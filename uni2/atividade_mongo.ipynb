{
 "cells": [
  {
   "cell_type": "code",
   "execution_count": 6,
   "id": "36a4ea8b-eb6b-4edb-b15a-181a23866526",
   "metadata": {},
   "outputs": [
    {
     "name": "stdout",
     "output_type": "stream",
     "text": [
      "Defaulting to user installation because normal site-packages is not writeable\n",
      "Requirement already satisfied: pymongo in /home/myuser/.local/lib/python3.12/site-packages (4.13.1)\n",
      "Requirement already satisfied: dnspython<3.0.0,>=1.16.0 in /home/myuser/.local/lib/python3.12/site-packages (from pymongo) (2.7.0)\n"
     ]
    }
   ],
   "source": [
    "!pip install pymongo --break-system-packages"
   ]
  },
  {
   "cell_type": "code",
   "execution_count": null,
   "id": "f4c82736-b78a-4339-9be6-fc95020f5024",
   "metadata": {},
   "outputs": [],
   "source": [
    "from pymongo import MongoClient\n",
    "\n",
    "client = MongoClient(\"mongodb://4b56f4d0ad80:27017/\")"
   ]
  },
  {
   "cell_type": "markdown",
   "id": "e39dd9b6-dfff-4b62-86f2-2a3f20b28ef5",
   "metadata": {},
   "source": [
    "# Colocando dados no MongoDb com o pymongo"
   ]
  },
  {
   "cell_type": "code",
   "execution_count": null,
   "id": "b821e16c-911d-4e03-a03d-abe250df17f9",
   "metadata": {},
   "outputs": [],
   "source": [
    "db = client.test_database"
   ]
  }
 ],
 "metadata": {
  "kernelspec": {
   "display_name": "Python 3 (ipykernel)",
   "language": "python",
   "name": "python3"
  },
  "language_info": {
   "codemirror_mode": {
    "name": "ipython",
    "version": 3
   },
   "file_extension": ".py",
   "mimetype": "text/x-python",
   "name": "python",
   "nbconvert_exporter": "python",
   "pygments_lexer": "ipython3",
   "version": "3.12.3"
  }
 },
 "nbformat": 4,
 "nbformat_minor": 5
}
