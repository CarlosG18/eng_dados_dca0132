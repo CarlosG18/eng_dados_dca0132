{
 "cells": [
  {
   "cell_type": "markdown",
   "id": "efc724f1-e193-4492-bdc5-38c0c0729cfd",
   "metadata": {},
   "source": [
    "# Instalando o pymongo"
   ]
  },
  {
   "cell_type": "code",
   "execution_count": 1,
   "id": "36a4ea8b-eb6b-4edb-b15a-181a23866526",
   "metadata": {
    "execution": {
     "iopub.execute_input": "2025-06-15T14:50:00.952803Z",
     "iopub.status.busy": "2025-06-15T14:50:00.952457Z",
     "iopub.status.idle": "2025-06-15T14:50:04.215933Z",
     "shell.execute_reply": "2025-06-15T14:50:04.215010Z",
     "shell.execute_reply.started": "2025-06-15T14:50:00.952775Z"
    }
   },
   "outputs": [
    {
     "name": "stdout",
     "output_type": "stream",
     "text": [
      "Defaulting to user installation because normal site-packages is not writeable\n",
      "Collecting pymongo\n",
      "  Downloading pymongo-4.13.1-cp312-cp312-manylinux_2_17_x86_64.manylinux2014_x86_64.whl.metadata (22 kB)\n",
      "Collecting dnspython<3.0.0,>=1.16.0 (from pymongo)\n",
      "  Downloading dnspython-2.7.0-py3-none-any.whl.metadata (5.8 kB)\n",
      "Downloading pymongo-4.13.1-cp312-cp312-manylinux_2_17_x86_64.manylinux2014_x86_64.whl (1.7 MB)\n",
      "\u001b[2K   \u001b[90m━━━━━━━━━━━━━━━━━━━━━━━━━━━━━━━━━━━━━━━━\u001b[0m \u001b[32m1.7/1.7 MB\u001b[0m \u001b[31m6.6 MB/s\u001b[0m eta \u001b[36m0:00:00\u001b[0m00:01\u001b[0m00:01\u001b[0m\n",
      "\u001b[?25hDownloading dnspython-2.7.0-py3-none-any.whl (313 kB)\n",
      "\u001b[2K   \u001b[90m━━━━━━━━━━━━━━━━━━━━━━━━━━━━━━━━━━━━━━━━\u001b[0m \u001b[32m313.6/313.6 kB\u001b[0m \u001b[31m17.8 MB/s\u001b[0m eta \u001b[36m0:00:00\u001b[0m\n",
      "\u001b[?25hInstalling collected packages: dnspython, pymongo\n",
      "Successfully installed dnspython-2.7.0 pymongo-4.13.1\n"
     ]
    }
   ],
   "source": [
    "!pip install pymongo --break-system-packages"
   ]
  },
  {
   "cell_type": "markdown",
   "id": "48682d1f-0886-4ae3-9223-db430affca75",
   "metadata": {},
   "source": [
    "# Teste básico de conexão e inserção de dados"
   ]
  },
  {
   "cell_type": "code",
   "execution_count": 115,
   "id": "f4c82736-b78a-4339-9be6-fc95020f5024",
   "metadata": {
    "execution": {
     "iopub.execute_input": "2025-06-15T18:59:15.434040Z",
     "iopub.status.busy": "2025-06-15T18:59:15.433402Z",
     "iopub.status.idle": "2025-06-15T18:59:15.488511Z",
     "shell.execute_reply": "2025-06-15T18:59:15.487059Z",
     "shell.execute_reply.started": "2025-06-15T18:59:15.433982Z"
    }
   },
   "outputs": [],
   "source": [
    "from pymongo import MongoClient\n",
    "\n",
    "client = MongoClient(\"mongodb://meu-mongo:27017/\")"
   ]
  },
  {
   "cell_type": "code",
   "execution_count": 116,
   "id": "b821e16c-911d-4e03-a03d-abe250df17f9",
   "metadata": {
    "execution": {
     "iopub.execute_input": "2025-06-15T18:59:18.018672Z",
     "iopub.status.busy": "2025-06-15T18:59:18.018184Z",
     "iopub.status.idle": "2025-06-15T18:59:18.132101Z",
     "shell.execute_reply": "2025-06-15T18:59:18.131408Z",
     "shell.execute_reply.started": "2025-06-15T18:59:18.018630Z"
    }
   },
   "outputs": [
    {
     "name": "stdout",
     "output_type": "stream",
     "text": [
      "True\n"
     ]
    }
   ],
   "source": [
    "# teste basico de criação de coleção e inserção de documento\n",
    "db = client.test_database\n",
    "collection = db.test_collection\n",
    "\n",
    "result = collection.insert_one({\"nome\": \"carlos\"})\n",
    "print(result.acknowledged)"
   ]
  },
  {
   "cell_type": "markdown",
   "id": "5e0ea9bf-5a3d-4cc5-9e5b-6799762756ca",
   "metadata": {},
   "source": [
    "# Inserindo os dados no mongo com o pymongo"
   ]
  },
  {
   "cell_type": "code",
   "execution_count": 117,
   "id": "ad987c8c-c7a6-42e4-be84-b50bf68ff1a5",
   "metadata": {
    "execution": {
     "iopub.execute_input": "2025-06-15T18:59:21.315331Z",
     "iopub.status.busy": "2025-06-15T18:59:21.314864Z",
     "iopub.status.idle": "2025-06-15T18:59:21.321584Z",
     "shell.execute_reply": "2025-06-15T18:59:21.320131Z",
     "shell.execute_reply.started": "2025-06-15T18:59:21.315292Z"
    }
   },
   "outputs": [],
   "source": [
    "import csv"
   ]
  },
  {
   "cell_type": "code",
   "execution_count": 118,
   "id": "927784f2-470e-4f69-bf80-f8f9c92f716f",
   "metadata": {
    "execution": {
     "iopub.execute_input": "2025-06-15T18:59:23.050212Z",
     "iopub.status.busy": "2025-06-15T18:59:23.049743Z",
     "iopub.status.idle": "2025-06-15T18:59:32.373411Z",
     "shell.execute_reply": "2025-06-15T18:59:32.371841Z",
     "shell.execute_reply.started": "2025-06-15T18:59:23.050172Z"
    }
   },
   "outputs": [],
   "source": [
    "db = client.ufrn\n",
    "collection_discente = db.discentes\n",
    "\n",
    "with open('discentes-2024.csv', 'r', newline='') as f:\n",
    "    data = csv.DictReader(f, delimiter=';')\n",
    "    for linha in data:\n",
    "        collection_discente.insert_one(linha)   "
   ]
  },
  {
   "cell_type": "markdown",
   "id": "38df3b60-dc0a-4cb6-a24d-5e3732cc3b4d",
   "metadata": {},
   "source": [
    "# Entrando no mongoDB com o spark"
   ]
  },
  {
   "cell_type": "code",
   "execution_count": 120,
   "id": "40b68516-667f-438b-bb0e-2c586c35c816",
   "metadata": {
    "execution": {
     "iopub.execute_input": "2025-06-15T18:59:39.632616Z",
     "iopub.status.busy": "2025-06-15T18:59:39.632107Z",
     "iopub.status.idle": "2025-06-15T18:59:39.643416Z",
     "shell.execute_reply": "2025-06-15T18:59:39.642231Z",
     "shell.execute_reply.started": "2025-06-15T18:59:39.632576Z"
    }
   },
   "outputs": [],
   "source": [
    "from pyspark.sql import SparkSession \n",
    "from pymongo import *\n",
    "\n",
    "spark = SparkSession.builder \\\n",
    "    .appName(\"MongoDB\") \\\n",
    "    .config(\"spark.mongodb.input.uri\", \"mongodb://meu-mongo:27017/ufrn.discentes\") \\\n",
    "    .config(\"spark.jars.packages\", \"org.mongodb.spark:mongo-spark-connector_2.12:10.4.0\") \\\n",
    "    .getOrCreate()"
   ]
  },
  {
   "cell_type": "markdown",
   "id": "f829fffb-cfe0-4277-b46d-903e6932bac6",
   "metadata": {},
   "source": [
    "# Realizando transformaçãoes com os dataframes"
   ]
  },
  {
   "cell_type": "code",
   "execution_count": 121,
   "id": "9e85545f-4f11-441e-9736-aa1dc1346459",
   "metadata": {
    "execution": {
     "iopub.execute_input": "2025-06-15T18:59:44.098538Z",
     "iopub.status.busy": "2025-06-15T18:59:44.097531Z",
     "iopub.status.idle": "2025-06-15T18:59:44.225305Z",
     "shell.execute_reply": "2025-06-15T18:59:44.224742Z",
     "shell.execute_reply.started": "2025-06-15T18:59:44.098482Z"
    }
   },
   "outputs": [],
   "source": [
    "df = spark.read.format(\"mongodb\") \\\n",
    "    .option(\"connection.uri\", \"mongodb://meu-mongo:27017\") \\\n",
    "    .option(\"database\", \"ufrn\") \\\n",
    "    .option(\"collection\", \"discentes\").load()"
   ]
  },
  {
   "cell_type": "code",
   "execution_count": 122,
   "id": "b0cff02a-1441-4658-a7f9-c25ac8c8a8a1",
   "metadata": {
    "execution": {
     "iopub.execute_input": "2025-06-15T18:59:46.965914Z",
     "iopub.status.busy": "2025-06-15T18:59:46.965429Z",
     "iopub.status.idle": "2025-06-15T18:59:46.976734Z",
     "shell.execute_reply": "2025-06-15T18:59:46.975699Z",
     "shell.execute_reply.started": "2025-06-15T18:59:46.965873Z"
    }
   },
   "outputs": [
    {
     "data": {
      "text/plain": [
       "['_id',\n",
       " 'ano_ingresso',\n",
       " 'forma_ingresso',\n",
       " 'id_curso',\n",
       " 'id_unidade',\n",
       " 'id_unidade_gestora',\n",
       " 'matricula',\n",
       " 'modalidade_educacao',\n",
       " 'nivel_ensino',\n",
       " 'nome_curso',\n",
       " 'nome_discente',\n",
       " 'nome_unidade',\n",
       " 'nome_unidade_gestora',\n",
       " 'periodo_ingresso',\n",
       " 'sexo',\n",
       " 'sigla_nivel_ensino',\n",
       " 'status',\n",
       " 'tipo_discente']"
      ]
     },
     "execution_count": 122,
     "metadata": {},
     "output_type": "execute_result"
    }
   ],
   "source": [
    "df.columns"
   ]
  },
  {
   "cell_type": "code",
   "execution_count": 123,
   "id": "dcbf9358-f77b-4041-8851-d44b09c62738",
   "metadata": {
    "execution": {
     "iopub.execute_input": "2025-06-15T18:59:49.703201Z",
     "iopub.status.busy": "2025-06-15T18:59:49.702885Z",
     "iopub.status.idle": "2025-06-15T18:59:57.012632Z",
     "shell.execute_reply": "2025-06-15T18:59:57.011433Z",
     "shell.execute_reply.started": "2025-06-15T18:59:49.703175Z"
    }
   },
   "outputs": [
    {
     "name": "stderr",
     "output_type": "stream",
     "text": [
      "[Stage 163:>                                                        (0 + 1) / 1]"
     ]
    },
    {
     "name": "stdout",
     "output_type": "stream",
     "text": [
      "+----------------------------------------------------------------------------------+\n",
      "|nome_curso                                                                        |\n",
      "+----------------------------------------------------------------------------------+\n",
      "|MESTRADO PROFISSIONAL EM ENERGIA ELÉTRICA                                         |\n",
      "|                                                                                  |\n",
      "|CURSO DE PORTUGUÊS COMO LÍNGUA DE ACOLHIMENTO                                     |\n",
      "|MESTRADO EM FONOAUDIOLOGIA                                                        |\n",
      "|TECNOLOGIA DA INFORMAÇÃO                                                          |\n",
      "|DIREITO                                                                           |\n",
      "|ARQUITETURA E URBANISMO                                                           |\n",
      "|CIÊNCIAS ECONÔMICAS                                                               |\n",
      "|CURSO DE LÍNGUA INGLESA  BÁSICO                                                  |\n",
      "|FONOAUDIOLOGIA                                                                    |\n",
      "|CIÊNCIAS E TECNOLOGIA                                                             |\n",
      "|MESTRADO EM ANTROPOLOGIA SOCIAL                                                   |\n",
      "|CIÊNCIAS E TECNOLOGIA                                                             |\n",
      "|CIÊNCIAS E TECNOLOGIA                                                             |\n",
      "|LETRAS - PORTUGUÊS E INGLÊS                                                       |\n",
      "|                                                                                  |\n",
      "|CIÊNCIAS E TECNOLOGIA                                                             |\n",
      "|                                                                                  |\n",
      "|CIÊNCIAS ECONÔMICAS                                                               |\n",
      "|CURSO DE PORTUGUÊS COMO LÍNGUA DE ACOLHIMENTO                                     |\n",
      "|                                                                                  |\n",
      "|LETRAS - LÍNGUA PORTUGUESA E LIBRAS                                               |\n",
      "|                                                                                  |\n",
      "|MATEMÁTICA                                                                        |\n",
      "|                                                                                  |\n",
      "|ENGENHARIA AMBIENTAL                                                              |\n",
      "|CIÊNCIAS E TECNOLOGIA                                                             |\n",
      "|CIÊNCIAS E TECNOLOGIA                                                             |\n",
      "|ESPECIALIZAÇÃO EM TURISMO RESPONSÁVEL                                             |\n",
      "|ENGENHARIA DE PETRÓLEO                                                            |\n",
      "|CURSO DE LÍNGUA INGLESA  BÁSICO                                                  |\n",
      "|CURSO DE LÍNGUA INGLESA  BÁSICO                                                  |\n",
      "|LETRAS- LÍNGUA ESPANHOLA E LITERATURAS                                            |\n",
      "|MESTRADO EM CIÊNCIAS CONTÁBEIS                                                    |\n",
      "|RESIDÊNCIA EM TECNOLOGIA DA INFORMAÇÃO                                            |\n",
      "|FILOSOFIA                                                                         |\n",
      "|TÉCNICO EM AGENTE COMUNITÁRIO DE SAÚDE                                            |\n",
      "|                                                                                  |\n",
      "|CIÊNCIAS CONTÁBEIS                                                                |\n",
      "|CIÊNCIAS E TECNOLOGIA                                                             |\n",
      "|DOUTORADO EM GEODINÂMICA E GEOFÍSICA                                              |\n",
      "|CURSO DE PORTUGUÊS LÍNGUA ESTRANGEIRA - BÁSICO                                    |\n",
      "|MESTRADO EM SISTEMAS E COMPUTAÇÃO                                                 |\n",
      "|ENFERMAGEM                                                                        |\n",
      "|                                                                                  |\n",
      "|TÉCNICO EM CUIDADOS DE IDOSOS                                                     |\n",
      "|FÍSICA                                                                            |\n",
      "|BIBLIOTECONOMIA                                                                   |\n",
      "|PROGRAMA DE RESIDÊNCIA MÉDICA EM PEDIATRIA                                        |\n",
      "|TÉCNICO DE MÚSICA (INSTRUMENTO)                                                   |\n",
      "|CURSO DE LÍNGUA INGLESA  BÁSICO                                                  |\n",
      "|HISTÓRIA                                                                          |\n",
      "|EDUCAÇÃO ESPECIAL INCLUSIVA                                                       |\n",
      "|ENFERMAGEM                                                                        |\n",
      "|ENGENHARIA DE COMPUTAÇÃO                                                          |\n",
      "|TURISMO                                                                           |\n",
      "|MESTRADO PROFISSIONAL EM EDUCAÇÃO ESPECIAL                                        |\n",
      "|DIREITO                                                                           |\n",
      "|CURSO DE LÍNGUA INGLESA  BÁSICO                                                  |\n",
      "|TÉCNICO DE MÚSICA (INSTRUMENTO)                                                   |\n",
      "|PEDAGOGIA                                                                         |\n",
      "|GEOGRAFIA                                                                         |\n",
      "|ODONTOLOGIA                                                                       |\n",
      "|ENGENHARIA QUÍMICA                                                                |\n",
      "|CIÊNCIAS E TECNOLOGIA                                                             |\n",
      "|CURSO DE LÍNGUA INGLESA  BÁSICO                                                  |\n",
      "|CIÊNCIAS CONTÁBEIS                                                                |\n",
      "|CURSO DE LÍNGUA LATINA                                                            |\n",
      "|DIREITO                                                                           |\n",
      "|TÉCNICO EM VIGILÂNCIA EM SAÚDE                                                    |\n",
      "|                                                                                  |\n",
      "|                                                                                  |\n",
      "|CURSO DE PORTUGUÊS COMO LÍNGUA DE ACOLHIMENTO                                     |\n",
      "|                                                                                  |\n",
      "|                                                                                  |\n",
      "|                                                                                  |\n",
      "|MESTRADO EM EDUCAÇÃO                                                              |\n",
      "|                                                                                  |\n",
      "|MESTRADO PROFISSIONAL EM GESTÃO DA QUALIDADE EM SERVIÇOS DE SAÚDE                 |\n",
      "|DOUTORADO EM DESENVOLVIMENTO E MEIO AMBIENTE                                      |\n",
      "|MESTRADO EM ESTUDOS DA LINGUAGEM                                                  |\n",
      "|CURSO DE LÍNGUA FRANCESA  BÁSICO                                                 |\n",
      "|APERFEIÇOAMENTO PARA PROFISSIONAIS DO SISTEMA SOCIOEDUCATIVO DA CIDADE DE NATAL/RN|\n",
      "|TÉCNICO DE MÚSICA (INSTRUMENTO)                                                   |\n",
      "|                                                                                  |\n",
      "|LETRAS - FRANCÊS                                                                  |\n",
      "|                                                                                  |\n",
      "|                                                                                  |\n",
      "|DOUTORADO EM PSICOLOGIA                                                           |\n",
      "|CURSO DE LÍNGUA FRANCESA  BÁSICO                                                 |\n",
      "|TECNOLOGIA DA INFORMAÇÃO                                                          |\n",
      "|BIBLIOTECONOMIA                                                                   |\n",
      "|MESTRADO EM ENGENHARIA TÊXTIL                                                     |\n",
      "|HISTÓRIA                                                                          |\n",
      "|ARTES VISUAIS                                                                     |\n",
      "|CIÊNCIAS E TECNOLOGIA                                                             |\n",
      "|MESTRADO EM CIÊNCIAS FISIOLÓGICAS                                                 |\n",
      "|CIÊNCIAS E TECNOLOGIA                                                             |\n",
      "|MESTRADO EM ENGENHARIA TÊXTIL                                                     |\n",
      "|FILOSOFIA                                                                         |\n",
      "+----------------------------------------------------------------------------------+\n",
      "only showing top 100 rows\n",
      "\n"
     ]
    },
    {
     "name": "stderr",
     "output_type": "stream",
     "text": [
      "                                                                                "
     ]
    }
   ],
   "source": [
    "from pyspark.sql.functions import sum, desc\n",
    "df.select('nome_curso').show(100, truncate=False)"
   ]
  },
  {
   "cell_type": "code",
   "execution_count": 124,
   "id": "eeff7ae9-bc81-4591-ac47-d69e2639151c",
   "metadata": {
    "execution": {
     "iopub.execute_input": "2025-06-15T19:00:01.565132Z",
     "iopub.status.busy": "2025-06-15T19:00:01.564653Z",
     "iopub.status.idle": "2025-06-15T19:00:02.776293Z",
     "shell.execute_reply": "2025-06-15T19:00:02.775669Z",
     "shell.execute_reply.started": "2025-06-15T19:00:01.565108Z"
    }
   },
   "outputs": [
    {
     "name": "stdout",
     "output_type": "stream",
     "text": [
      "+--------------------+------------+--------------+---------+----------+------------------+-----------+-------------------+------------+--------------------+--------------------+--------------------+--------------------+----------------+----+------------------+---------+-------------+\n",
      "|                 _id|ano_ingresso|forma_ingresso| id_curso|id_unidade|id_unidade_gestora|  matricula|modalidade_educacao|nivel_ensino|          nome_curso|       nome_discente|        nome_unidade|nome_unidade_gestora|periodo_ingresso|sexo|sigla_nivel_ensino|   status|tipo_discente|\n",
      "+--------------------+------------+--------------+---------+----------+------------------+-----------+-------------------+------------+--------------------+--------------------+--------------------+--------------------+----------------+----+------------------+---------+-------------+\n",
      "|684f180bcace6a2b3...|        2024|          SiSU| 92127264|      6069|               605|20240004567|         PRESENCIAL|   GRADUAÇÃO|TECNOLOGIA DA INF...|ABÍLIO GABRIEL MA...|INSTITUTO METROPO...|UNIVERSIDADE FEDE...|               1|   M|                 G|CANCELADO|      REGULAR|\n",
      "|684f180bcace6a2b3...|        2024|          SiSU|  2000018|       443|               443|20240049550|         PRESENCIAL|   GRADUAÇÃO|             DIREITO|ABIMAEL ESDRAS CA...|CENTRO DE CIÊNCIA...|CENTRO DE CIÊNCIA...|               2|   M|                 G| TRANCADO|      REGULAR|\n",
      "|684f180bcace6a2b3...|        2024|          SiSU|  2000014|       443|               443|20240054550|         PRESENCIAL|   GRADUAÇÃO| CIÊNCIAS ECONÔMICAS|ABNER ADIEL DE MO...|CENTRO DE CIÊNCIA...|CENTRO DE CIÊNCIA...|               2|   M|                 G|    ATIVO|      REGULAR|\n",
      "|684f180bcace6a2b3...|        2024|          SiSU|  7410980|       441|               441|20240052250|         PRESENCIAL|   GRADUAÇÃO|      FONOAUDIOLOGIA|ABNER GABRIEL DO ...|CENTRO DE CIÊNCIA...|CENTRO DE CIÊNCIA...|               1|   M|                 G|    ATIVO|      REGULAR|\n",
      "|684f180bcace6a2b3...|        2024|          SiSU| 10320810|      4885|               605|20240063450|         PRESENCIAL|   GRADUAÇÃO|CIÊNCIAS E TECNOL...|ABNER LUCAS DA SI...|ESCOLA DE CIÊNCIA...|UNIVERSIDADE FEDE...|               2|   M|                 G|CANCELADO|      REGULAR|\n",
      "|684f180bcace6a2b3...|        2024|          SiSU| 10320810|      4885|               605|20240054569|         PRESENCIAL|   GRADUAÇÃO|CIÊNCIAS E TECNOL...|  ABNER SILVA FARIAS|ESCOLA DE CIÊNCIA...|UNIVERSIDADE FEDE...|               2|   M|                 G|    ATIVO|      REGULAR|\n",
      "|684f180bcace6a2b3...|        2024|          SiSU| 10320810|      4885|               605|20240047822|         PRESENCIAL|   GRADUAÇÃO|CIÊNCIAS E TECNOL...|ABNER WALLACE DE ...|ESCOLA DE CIÊNCIA...|UNIVERSIDADE FEDE...|               1|   M|                 G|    ATIVO|      REGULAR|\n",
      "|684f180bcace6a2b3...|        2024|          SiSU|133175344|     31011|               605|20240019720|         PRESENCIAL|   GRADUAÇÃO|LETRAS - PORTUGUÊ...|ABRAAO BENJAMIM S...|FACULDADE DE ENGE...|UNIVERSIDADE FEDE...|               1|   M|                 G|    ATIVO|      REGULAR|\n",
      "|684f180bcace6a2b3...|        2024|          SiSU| 10320810|      4885|               605|20240045167|         PRESENCIAL|   GRADUAÇÃO|CIÊNCIAS E TECNOL...|ABRAÃO DOMINGOS D...|ESCOLA DE CIÊNCIA...|UNIVERSIDADE FEDE...|               1|   M|                 G|CANCELADO|      REGULAR|\n",
      "|684f180bcace6a2b3...|        2024|          SiSU|  2000014|       443|               443|20240030066|         PRESENCIAL|   GRADUAÇÃO| CIÊNCIAS ECONÔMICAS|ABSON LUIZ PEREIR...|CENTRO DE CIÊNCIA...|CENTRO DE CIÊNCIA...|               1|   M|                 G| TRANCADO|      REGULAR|\n",
      "|684f180bcace6a2b3...|        2024|          SiSU|111635066|       439|               439|20240071560|         PRESENCIAL|   GRADUAÇÃO|          MATEMÁTICA|ACIELE KARINE DA ...|CENTRO DE CIÊNCIA...|CENTRO DE CIÊNCIA...|               1|   F|                 G|    ATIVO|      REGULAR|\n",
      "|684f180bcace6a2b3...|        2024|          SiSU| 85322571|       445|               445|20240054596|         PRESENCIAL|   GRADUAÇÃO|ENGENHARIA AMBIENTAL|ADAILTON FERNANDE...|CENTRO DE TECNOLOGIA|CENTRO DE TECNOLOGIA|               2|   M|                 G|    ATIVO|      REGULAR|\n",
      "|684f180bcace6a2b3...|        2024|          SiSU| 10320810|      4885|               605|20240041730|         PRESENCIAL|   GRADUAÇÃO|CIÊNCIAS E TECNOL...|ADAILTON HANDERSO...|ESCOLA DE CIÊNCIA...|UNIVERSIDADE FEDE...|               1|   M|                 G|    ATIVO|      REGULAR|\n",
      "|684f180bcace6a2b3...|        2024|          SiSU| 10320810|      4885|               605|20240019882|         PRESENCIAL|   GRADUAÇÃO|CIÊNCIAS E TECNOL...|ADALEIDIELSON KEL...|ESCOLA DE CIÊNCIA...|UNIVERSIDADE FEDE...|               1|   M|                 G|    ATIVO|      REGULAR|\n",
      "|684f180bcace6a2b3...|        2024|          SiSU|118880834|       442|               442|20240004941|         PRESENCIAL|   GRADUAÇÃO|LETRAS- LÍNGUA ES...|ADAUTO LEVIATAN C...|CENTRO DE CIÊNCIA...|CENTRO DE CIÊNCIA...|               1|   M|                 G|CANCELADO|      REGULAR|\n",
      "|684f180bcace6a2b3...|        2024|          SiSU|111635047|       442|               442|20240049587|         PRESENCIAL|   GRADUAÇÃO|           FILOSOFIA|ADEBAL FERREIRA S...|CENTRO DE CIÊNCIA...|CENTRO DE CIÊNCIA...|               1|   M|                 G|CANCELADO|      REGULAR|\n",
      "|684f180bcace6a2b3...|        2024|          SiSU|  2000011|       443|               443|20240005241|         PRESENCIAL|   GRADUAÇÃO|  CIÊNCIAS CONTÁBEIS|ADEILTON CLAUDIO ...|CENTRO DE CIÊNCIA...|CENTRO DE CIÊNCIA...|               2|   M|                 G|    ATIVO|      REGULAR|\n",
      "|684f180bcace6a2b3...|        2024|          SiSU| 10320810|      4885|               605|20240041847|         PRESENCIAL|   GRADUAÇÃO|CIÊNCIAS E TECNOL...|ADEILTON SIMIAO D...|ESCOLA DE CIÊNCIA...|UNIVERSIDADE FEDE...|               1|   M|                 G|    ATIVO|      REGULAR|\n",
      "|684f180bcace6a2b3...|        2024|          SiSU| 13027790|      4890|               605|20240072530|         PRESENCIAL|   GRADUAÇÃO|          ENFERMAGEM|ADELIANE CARDOSO ...|FACULDADE DE CIÊN...|UNIVERSIDADE FEDE...|               2|   F|                 G|    ATIVO|      REGULAR|\n",
      "|684f180bcace6a2b3...|        2024|          SiSU|  2000041|       439|               439|20240054611|         PRESENCIAL|   GRADUAÇÃO|              FÍSICA|ADENILSON CUSTODI...|CENTRO DE CIÊNCIA...|CENTRO DE CIÊNCIA...|               1|   M|                 G|CANCELADO|      REGULAR|\n",
      "+--------------------+------------+--------------+---------+----------+------------------+-----------+-------------------+------------+--------------------+--------------------+--------------------+--------------------+----------------+----+------------------+---------+-------------+\n",
      "only showing top 20 rows\n",
      "\n",
      "quantidade de alunos que ingressaram pelo sisu = 6745, alunos totais = 14459\n"
     ]
    }
   ],
   "source": [
    "# Listar todos os alunos que ingressaram por meio do SiSU;\n",
    "\n",
    "alunos_sisu = df.filter(df.forma_ingresso == \"SiSU\")\n",
    "alunos_sisu_count = df.filter(df.forma_ingresso == \"SiSU\").count()\n",
    "alunos_sisu.show()\n",
    "print(f'quantidade de alunos que ingressaram pelo sisu = {alunos_sisu_count}, alunos totais = {df.count()}')"
   ]
  },
  {
   "cell_type": "code",
   "execution_count": 125,
   "id": "430b51cf-9d7e-4b8b-ba1b-74e821eafd41",
   "metadata": {
    "execution": {
     "iopub.execute_input": "2025-06-15T19:00:10.981803Z",
     "iopub.status.busy": "2025-06-15T19:00:10.981579Z",
     "iopub.status.idle": "2025-06-15T19:00:12.795025Z",
     "shell.execute_reply": "2025-06-15T19:00:12.794164Z",
     "shell.execute_reply.started": "2025-06-15T19:00:10.981787Z"
    }
   },
   "outputs": [
    {
     "name": "stdout",
     "output_type": "stream",
     "text": [
      "soma = 14458 -> total 14459\n"
     ]
    },
    {
     "name": "stderr",
     "output_type": "stream",
     "text": [
      "[Stage 180:>                                                        (0 + 1) / 1]"
     ]
    },
    {
     "name": "stdout",
     "output_type": "stream",
     "text": [
      "+----+----------+\n",
      "|sexo|quantidade|\n",
      "+----+----------+\n",
      "|   F|      7470|\n",
      "|   M|      6988|\n",
      "+----+----------+\n",
      "\n"
     ]
    },
    {
     "name": "stderr",
     "output_type": "stream",
     "text": [
      "                                                                                "
     ]
    }
   ],
   "source": [
    "# Computar quantos alunos são do sexo masculino e do sexo feminino;\n",
    "from pyspark.sql import Row\n",
    "\n",
    "mulheres = df.filter(df.sexo == \"F\").count()\n",
    "homens = df.filter(df.sexo == \"M\").count()\n",
    "mulheres\n",
    "homens\n",
    "print(f'soma = {mulheres + homens} -> total {df.count()}')\n",
    "\n",
    "# Cria uma lista com dicionários ou Rows\n",
    "dados = [Row(sexo=\"F\", quantidade=mulheres),\n",
    "         Row(sexo=\"M\", quantidade=homens)]\n",
    "\n",
    "# Cria o DataFrame\n",
    "df_generos = spark.createDataFrame(dados)\n",
    "df_generos.show()"
   ]
  },
  {
   "cell_type": "code",
   "execution_count": 126,
   "id": "e8e93f17-f9ac-4da1-bb0c-72db199d3187",
   "metadata": {
    "execution": {
     "iopub.execute_input": "2025-06-15T19:00:16.312464Z",
     "iopub.status.busy": "2025-06-15T19:00:16.312052Z",
     "iopub.status.idle": "2025-06-15T19:00:16.874301Z",
     "shell.execute_reply": "2025-06-15T19:00:16.873647Z",
     "shell.execute_reply.started": "2025-06-15T19:00:16.312431Z"
    }
   },
   "outputs": [
    {
     "name": "stdout",
     "output_type": "stream",
     "text": [
      "+--------------------------------+-----------------+\n",
      "|nome_curso                      |NUMERO_ESTUDANTES|\n",
      "+--------------------------------+-----------------+\n",
      "|                                |1260             |\n",
      "|CIÊNCIAS E TECNOLOGIA           |787              |\n",
      "|CURSO DE LÍNGUA INGLESA  BÁSICO|494              |\n",
      "|PEDAGOGIA                       |427              |\n",
      "|TECNOLOGIA DA INFORMAÇÃO        |346              |\n",
      "+--------------------------------+-----------------+\n",
      "\n"
     ]
    }
   ],
   "source": [
    "# Computar o top 5 dos cursos que mais receberam alunos;\n",
    "\n",
    "top5 = df.groupBy('nome_curso').count().withColumnRenamed('count', 'NUMERO_ESTUDANTES').orderBy(desc('NUMERO_ESTUDANTES')).limit(5)\n",
    "top5.show(truncate=False)"
   ]
  },
  {
   "cell_type": "code",
   "execution_count": 127,
   "id": "8b9b7f3e-e3ee-46f3-9b16-458993de9553",
   "metadata": {
    "execution": {
     "iopub.execute_input": "2025-06-15T19:00:34.126811Z",
     "iopub.status.busy": "2025-06-15T19:00:34.126428Z",
     "iopub.status.idle": "2025-06-15T19:00:34.760295Z",
     "shell.execute_reply": "2025-06-15T19:00:34.759409Z",
     "shell.execute_reply.started": "2025-06-15T19:00:34.126778Z"
    }
   },
   "outputs": [
    {
     "name": "stdout",
     "output_type": "stream",
     "text": [
      "+--------------------+------------+--------------+--------+----------+------------------+-----------+-------------------+------------+--------------------+--------------------+--------------------+--------------------+----------------+----+------------------+--------+-------------+\n",
      "|                 _id|ano_ingresso|forma_ingresso|id_curso|id_unidade|id_unidade_gestora|  matricula|modalidade_educacao|nivel_ensino|          nome_curso|       nome_discente|        nome_unidade|nome_unidade_gestora|periodo_ingresso|sexo|sigla_nivel_ensino|  status|tipo_discente|\n",
      "+--------------------+------------+--------------+--------+----------+------------------+-----------+-------------------+------------+--------------------+--------------------+--------------------+--------------------+----------------+----+------------------+--------+-------------+\n",
      "|684f180bcace6a2b3...|        2024|          SiSU| 2000026|       445|               445|20240020121|         PRESENCIAL|   GRADUAÇÃO|ENGENHARIA DE COM...|ADLA JULIANA LOPE...|CENTRO DE TECNOLOGIA|CENTRO DE TECNOLOGIA|               2|   F|                 G|   ATIVO|      REGULAR|\n",
      "|684f180bcace6a2b3...|        2024|          SiSU| 2000026|       445|               445|20240059411|         PRESENCIAL|   GRADUAÇÃO|ENGENHARIA DE COM...|ALAN CESAR REBOUC...|CENTRO DE TECNOLOGIA|CENTRO DE TECNOLOGIA|               2|   M|                 G|   ATIVO|      REGULAR|\n",
      "|684f180bcace6a2b3...|        2024|          SiSU| 2000026|       445|               445|20240015613|         PRESENCIAL|   GRADUAÇÃO|ENGENHARIA DE COM...|ANA BEATRIZ MAIA ...|CENTRO DE TECNOLOGIA|CENTRO DE TECNOLOGIA|               1|   F|                 G|   ATIVO|      REGULAR|\n",
      "|684f180bcace6a2b3...|        2024|          SiSU| 2000026|       445|               445|20240029922|         PRESENCIAL|   GRADUAÇÃO|ENGENHARIA DE COM...|ANNANDA EDUARDA S...|CENTRO DE TECNOLOGIA|CENTRO DE TECNOLOGIA|               1|   F|                 G|   ATIVO|      REGULAR|\n",
      "|684f180bcace6a2b3...|        2024|          SiSU| 2000026|       445|               445|20240043215|         PRESENCIAL|   GRADUAÇÃO|ENGENHARIA DE COM...|ARTHUR DOMINIK BA...|CENTRO DE TECNOLOGIA|CENTRO DE TECNOLOGIA|               2|   M|                 G|   ATIVO|      REGULAR|\n",
      "|684f180bcace6a2b3...|        2024|          SiSU| 2000026|       445|               445|20240050247|         PRESENCIAL|   GRADUAÇÃO|ENGENHARIA DE COM...|ARTHUR PORTO DAS ...|CENTRO DE TECNOLOGIA|CENTRO DE TECNOLOGIA|               2|   M|                 G|   ATIVO|      REGULAR|\n",
      "|684f180bcace6a2b3...|        2024|          SiSU| 2000026|       445|               445|20240028273|         PRESENCIAL|   GRADUAÇÃO|ENGENHARIA DE COM...|CAUÃ MEDEIROS PER...|CENTRO DE TECNOLOGIA|CENTRO DE TECNOLOGIA|               1|   M|                 G|   ATIVO|      REGULAR|\n",
      "|684f180dcace6a2b3...|        2024|          SiSU| 2000026|       445|               445|20240080845|         PRESENCIAL|   GRADUAÇÃO|ENGENHARIA DE COM...|GABRIEL ANTUNES S...|CENTRO DE TECNOLOGIA|CENTRO DE TECNOLOGIA|               2|   M|                 G|   ATIVO|      REGULAR|\n",
      "|684f180dcace6a2b3...|        2024|          SiSU| 2000026|       445|               445|20240055833|         PRESENCIAL|   GRADUAÇÃO|ENGENHARIA DE COM...|GIOVANNI TARDELLI...|CENTRO DE TECNOLOGIA|CENTRO DE TECNOLOGIA|               2|   M|                 G|   ATIVO|      REGULAR|\n",
      "|684f180dcace6a2b3...|        2024|          SiSU| 2000026|       445|               445|20240005045|         PRESENCIAL|   GRADUAÇÃO|ENGENHARIA DE COM...|GUILHERME RIBEIRO...|CENTRO DE TECNOLOGIA|CENTRO DE TECNOLOGIA|               1|   M|                 G|   ATIVO|      REGULAR|\n",
      "|684f180ecace6a2b3...|        2024|          SiSU| 2000026|       445|               445|20240062963|         PRESENCIAL|   GRADUAÇÃO|ENGENHARIA DE COM...|ITAMAR CAMPOS PEI...|CENTRO DE TECNOLOGIA|CENTRO DE TECNOLOGIA|               2|   M|                 G|TRANCADO|      REGULAR|\n",
      "|684f180ecace6a2b3...|        2024|          SiSU| 2000026|       445|               445|20240032365|         PRESENCIAL|   GRADUAÇÃO|ENGENHARIA DE COM...|IWRI SIMPLÍCIO FE...|CENTRO DE TECNOLOGIA|CENTRO DE TECNOLOGIA|               1|   M|                 G|   ATIVO|      REGULAR|\n",
      "|684f180ecace6a2b3...|        2024|          SiSU| 2000026|       445|               445|20240012676|         PRESENCIAL|   GRADUAÇÃO|ENGENHARIA DE COM...|JOAO GABRIEL DE S...|CENTRO DE TECNOLOGIA|CENTRO DE TECNOLOGIA|               2|   M|                 G|   ATIVO|      REGULAR|\n",
      "|684f180fcace6a2b3...|        2024|          SiSU| 2000026|       445|               445|20240079666|         PRESENCIAL|   GRADUAÇÃO|ENGENHARIA DE COM...|JOÃO VICTOR ALVES...|CENTRO DE TECNOLOGIA|CENTRO DE TECNOLOGIA|               2|   M|                 G|TRANCADO|      REGULAR|\n",
      "|684f180fcace6a2b3...|        2024|          SiSU| 2000026|       445|               445|20240011230|         PRESENCIAL|   GRADUAÇÃO|ENGENHARIA DE COM...|JOAO VICTOR DE SO...|CENTRO DE TECNOLOGIA|CENTRO DE TECNOLOGIA|               1|   M|                 G|   ATIVO|      REGULAR|\n",
      "|684f180fcace6a2b3...|        2024|          SiSU| 2000026|       445|               445|20240049003|         PRESENCIAL|   GRADUAÇÃO|ENGENHARIA DE COM...|JOAQUIM IZAQUE DO...|CENTRO DE TECNOLOGIA|CENTRO DE TECNOLOGIA|               1|   M|                 G|   ATIVO|      REGULAR|\n",
      "|684f180fcace6a2b3...|        2024|          SiSU| 2000026|       445|               445|20240026831|         PRESENCIAL|   GRADUAÇÃO|ENGENHARIA DE COM...|JORGE MARINHEIRO ...|CENTRO DE TECNOLOGIA|CENTRO DE TECNOLOGIA|               1|   M|                 G|   ATIVO|      REGULAR|\n",
      "|684f180fcace6a2b3...|        2024|          SiSU| 2000026|       445|               445|20240016610|         PRESENCIAL|   GRADUAÇÃO|ENGENHARIA DE COM...|JULIO DOS ANJOS L...|CENTRO DE TECNOLOGIA|CENTRO DE TECNOLOGIA|               1|   M|                 G|   ATIVO|      REGULAR|\n",
      "|684f180fcace6a2b3...|        2024|          SiSU| 2000026|       445|               445|20240030899|         PRESENCIAL|   GRADUAÇÃO|ENGENHARIA DE COM...| KAIC VARGENS SANTOS|CENTRO DE TECNOLOGIA|CENTRO DE TECNOLOGIA|               1|   M|                 G|   ATIVO|      REGULAR|\n",
      "|684f180fcace6a2b3...|        2024|          SiSU| 2000026|       445|               445|20240064707|         PRESENCIAL|   GRADUAÇÃO|ENGENHARIA DE COM...|KAUÃ EDER PEREIRA...|CENTRO DE TECNOLOGIA|CENTRO DE TECNOLOGIA|               2|   M|                 G|   ATIVO|      REGULAR|\n",
      "+--------------------+------------+--------------+--------+----------+------------------+-----------+-------------------+------------+--------------------+--------------------+--------------------+--------------------+----------------+----+------------------+--------+-------------+\n",
      "only showing top 20 rows\n",
      "\n",
      "total alunos entraram em computação pelo sisu: 36\n",
      "quantidade de alunos homens que entraram em computação pelo sisu: 32\n",
      "quantidade de alunos mulheres que entraram em computação pelo sisu: 4\n"
     ]
    }
   ],
   "source": [
    "# Realizar consulta múltipla (\"relacional\"), por exemplo: quantos alunos são do sexo masculino que ingressaram via SiSU em algum curso em específico.\n",
    "\n",
    "# estudantes que entraram pelo sisu e é de eng comp\n",
    "sisu_engcomp = df.filter((df.nome_curso == \"ENGENHARIA DE COMPUTAÇÃO\") & (df.forma_ingresso == \"SiSU\"))\n",
    "sisu_engcomp_count = sisu_engcomp.count()\n",
    "\n",
    "# apenas homens\n",
    "masc = sisu_engcomp.filter(df.sexo == \"M\")\n",
    "masc_count = masc.count()\n",
    "\n",
    "# apenas mulheres\n",
    "fem = sisu_engcomp.filter(df.sexo == \"F\")\n",
    "fem_count = fem.count()\n",
    "\n",
    "\n",
    "sisu_engcomp.show()\n",
    "print(f'total alunos entraram em computação pelo sisu: {sisu_engcomp_count}')\n",
    "print(f'quantidade de alunos homens que entraram em computação pelo sisu: {masc_count}')\n",
    "print(f'quantidade de alunos mulheres que entraram em computação pelo sisu: {fem_count}')"
   ]
  },
  {
   "cell_type": "markdown",
   "id": "ffb44fb7-5b49-4145-aa00-df9ac22d6671",
   "metadata": {},
   "source": [
    "# Salvando os dados de volta no MongoDB"
   ]
  },
  {
   "cell_type": "code",
   "execution_count": 129,
   "id": "3b473dd4-558b-49b4-8fa1-e97f12b5e9d9",
   "metadata": {
    "execution": {
     "iopub.execute_input": "2025-06-15T19:01:50.077518Z",
     "iopub.status.busy": "2025-06-15T19:01:50.077114Z",
     "iopub.status.idle": "2025-06-15T19:02:02.337001Z",
     "shell.execute_reply": "2025-06-15T19:02:02.336368Z",
     "shell.execute_reply.started": "2025-06-15T19:01:50.077485Z"
    }
   },
   "outputs": [
    {
     "name": "stderr",
     "output_type": "stream",
     "text": [
      "                                                                                "
     ]
    }
   ],
   "source": [
    "# salvando em uma coleção os alunos do sisu\n",
    "alunos_sisu.write.format(\"mongodb\").mode(\"overwrite\").option(\"connection.uri\", 'mongodb://meu-mongo:27017/').option(\"database\", \"ufrn\").option(\"collection\", \"alunos_sisu\").save()\n",
    "\n",
    "# salvando o top5\n",
    "top5.write.format(\"mongodb\").mode(\"overwrite\").option(\"connection.uri\", 'mongodb://meu-mongo:27017/').option(\"database\", \"ufrn\").option(\"collection\", \"top5\").save()\n",
    "\n",
    "# salvando os alunos do sexo masculino e feminino\n",
    "df_generos.write.format(\"mongodb\").mode(\"overwrite\").option(\"connection.uri\", 'mongodb://meu-mongo:27017/').option(\"database\", \"ufrn\").option(\"collection\", \"generos\").save()\n",
    "\n",
    "# salvando os alunos que vinheram do sisu e são de eng_comp\n",
    "sisu_engcomp.write.format(\"mongodb\").mode(\"overwrite\").option(\"connection.uri\", 'mongodb://meu-mongo:27017/').option(\"database\", \"ufrn\").option(\"collection\", \"generos\").save()"
   ]
  },
  {
   "cell_type": "markdown",
   "id": "2be22daa-7559-441d-8a4c-719d510d833a",
   "metadata": {},
   "source": [
    "# Verificando se os dados foram realmente salvos"
   ]
  },
  {
   "cell_type": "code",
   "execution_count": 130,
   "id": "28676f83-306a-4ebb-9f17-9ab7725e7b41",
   "metadata": {
    "execution": {
     "iopub.execute_input": "2025-06-15T19:02:05.511146Z",
     "iopub.status.busy": "2025-06-15T19:02:05.510675Z",
     "iopub.status.idle": "2025-06-15T19:02:05.541609Z",
     "shell.execute_reply": "2025-06-15T19:02:05.541033Z",
     "shell.execute_reply.started": "2025-06-15T19:02:05.511106Z"
    }
   },
   "outputs": [],
   "source": [
    "df = spark.read.format(\"mongodb\") \\\n",
    "    .option(\"connection.uri\", \"mongodb://meu-mongo:27017\") \\\n",
    "    .option(\"database\", \"ufrn\") \\\n",
    "    .option(\"collection\", \"top5\").load()"
   ]
  },
  {
   "cell_type": "code",
   "execution_count": 131,
   "id": "04e251aa-c7fc-4e2e-bc6b-510ac26eabc3",
   "metadata": {
    "execution": {
     "iopub.execute_input": "2025-06-15T19:02:08.336780Z",
     "iopub.status.busy": "2025-06-15T19:02:08.336262Z",
     "iopub.status.idle": "2025-06-15T19:02:08.542311Z",
     "shell.execute_reply": "2025-06-15T19:02:08.541760Z",
     "shell.execute_reply.started": "2025-06-15T19:02:08.336760Z"
    }
   },
   "outputs": [
    {
     "name": "stdout",
     "output_type": "stream",
     "text": [
      "+-----------------+------------------------+--------------------------------+\n",
      "|NUMERO_ESTUDANTES|_id                     |nome_curso                      |\n",
      "+-----------------+------------------------+--------------------------------+\n",
      "|1260             |684f18a9809b6067682f84eb|                                |\n",
      "|787              |684f18a9809b6067682f84ec|CIÊNCIAS E TECNOLOGIA           |\n",
      "|494              |684f18a9809b6067682f84ed|CURSO DE LÍNGUA INGLESA  BÁSICO|\n",
      "|427              |684f18a9809b6067682f84ee|PEDAGOGIA                       |\n",
      "|346              |684f18a9809b6067682f84ef|TECNOLOGIA DA INFORMAÇÃO        |\n",
      "+-----------------+------------------------+--------------------------------+\n",
      "\n"
     ]
    }
   ],
   "source": [
    "df.show(truncate=False)"
   ]
  },
  {
   "cell_type": "code",
   "execution_count": null,
   "id": "62ea16cd-8f79-49ea-95cb-5ea9902b375d",
   "metadata": {},
   "outputs": [],
   "source": []
  }
 ],
 "metadata": {
  "kernelspec": {
   "display_name": "Python 3 (ipykernel)",
   "language": "python",
   "name": "python3"
  },
  "language_info": {
   "codemirror_mode": {
    "name": "ipython",
    "version": 3
   },
   "file_extension": ".py",
   "mimetype": "text/x-python",
   "name": "python",
   "nbconvert_exporter": "python",
   "pygments_lexer": "ipython3",
   "version": "3.12.3"
  }
 },
 "nbformat": 4,
 "nbformat_minor": 5
}
