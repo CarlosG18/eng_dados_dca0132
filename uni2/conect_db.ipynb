{
 "cells": [
  {
   "cell_type": "code",
   "execution_count": 24,
   "id": "63bf4de4-4f29-4e7e-9e89-50599c82d292",
   "metadata": {},
   "outputs": [],
   "source": [
    "# Importa biblioteca\n",
    "from pyspark.sql import SparkSession\n",
    "\n",
    "spark = (\n",
    "    SparkSession.builder\n",
    "        .master(\"yarn\")\n",
    "        .appName(\"Data Transform\")\n",
    "        .getOrCreate()\n",
    ")\n",
    "\n",
    "# Importar tabela a partir de um banco postgresql\n",
    "df = spark.read.format(\"jdbc\") \\\n",
    "\t.option(\"url\",\"jdbc:postgresql://10.13.123.0:5432/curso_spark\") \\\n",
    "\t.option(\"dbtable\",\"processos\") \\\n",
    "\t.option(\"user\",\"postgres\") \\\n",
    "\t.option(\"password\",\"spark\") \\\n",
    "\t.option(\"driver\",\"org.postgresql.Driver\") \\\n",
    "\t.load()"
   ]
  },
  {
   "cell_type": "code",
   "execution_count": 25,
   "id": "228372cd-0c9f-4308-970b-1dd8478d23ff",
   "metadata": {},
   "outputs": [
    {
     "data": {
      "text/plain": [
       "300673"
      ]
     },
     "execution_count": 25,
     "metadata": {},
     "output_type": "execute_result"
    }
   ],
   "source": [
    "df.count()"
   ]
  },
  {
   "cell_type": "code",
   "execution_count": 27,
   "id": "06372095-6787-4b8a-985c-4bb63334bece",
   "metadata": {},
   "outputs": [
    {
     "name": "stderr",
     "output_type": "stream",
     "text": [
      "                                                                                "
     ]
    },
    {
     "data": {
      "text/plain": [
       "164099"
      ]
     },
     "execution_count": 27,
     "metadata": {},
     "output_type": "execute_result"
    }
   ],
   "source": [
    "df_clean = df.drop_duplicates()\n",
    "df_clean.count()"
   ]
  },
  {
   "cell_type": "code",
   "execution_count": 11,
   "id": "238e2c3e-c720-4fce-b83a-1061e4496d13",
   "metadata": {},
   "outputs": [],
   "source": [
    "from pyspark.sql.functions import desc, sum"
   ]
  },
  {
   "cell_type": "code",
   "execution_count": 29,
   "id": "ec8edffc-8b63-49a3-a5a0-2881a6d713ba",
   "metadata": {},
   "outputs": [
    {
     "name": "stderr",
     "output_type": "stream",
     "text": [
      "[Stage 58:>                                                         (0 + 1) / 1]"
     ]
    },
    {
     "name": "stdout",
     "output_type": "stream",
     "text": [
      "+-------+----+------+------------+------------+--------+------+------------+---------------+----------+--------------------+\n",
      "|ID_PROC|VARA|CLASSE|QTD_RDA_PROC|QTD_RTE_PROC|ID_FAIXA|ID_RDA|QTD_ASSUNTOS|    FAIXA_CAUSA|TEMPO_DIAS|       ARRAY_ASSUNTO|\n",
      "+-------+----+------+------------+------------+--------+------+------------+---------------+----------+--------------------+\n",
      "|  42975|1572|    58|           2|           1|       4|  4767|           9|  30.001-40.000|      2393|\"Adicional Noturn...|\n",
      "| 153687|1525|    77|           1|           1|      47| 13640|           6|460.001-470.000|        56|\"Anotação / Baixa...|\n",
      "|  73172|1502|    42|           1|           2|       2| 24444|           2|  10.001-20.000|      1156|\"Multa de 40% do ...|\n",
      "|  50223|1489|    77|           2|           1|       4| 80013|          15|  30.001-40.000|      2430|\"Cálculo / Reperc...|\n",
      "|  34958|1487|    77|           6|           1|       4|  3141|           1|  30.001-40.000|      2660|Multa do Artigo 4...|\n",
      "| 169372|1480|    42|           3|           1|       3|     1|           5|  20.001-30.000|       169|\"Adicional de Hor...|\n",
      "|  28476|1490|    77|           4|           1|       4|112649|           9|  30.001-40.000|      2764|\"Acúmulo de Funçã...|\n",
      "| 103145|1771|    42|           1|           1|       2| 28380|           1|  10.001-20.000|      1281|               Abono|\n",
      "|  42093|1579|   208|           2|           1|       5|  2836|          21|  40.001-50.000|      2527|\"Aviso Prévio\",\"C...|\n",
      "|  28334|1528|    77|           1|           1|       7| 81255|          16|  60.001-70.000|      2773|\"Abono Pecuniário...|\n",
      "| 140283|1502|    77|           1|           1|      16| 59725|          11|150.001-160.000|       296|\"Acúmulo de Funçã...|\n",
      "| 157054|1497|    77|           2|           1|       7| 96584|           7|  60.001-70.000|       118|\"Adicional Noturn...|\n",
      "|  57967|1507|    77|           3|           1|       1| 55044|           3|       1-10.000|      1924|\"Adicional de Hor...|\n",
      "| 166717|1502|    42|           2|           1|       3|109279|           3|  20.001-30.000|       250|\"Assédio Moral\",\"...|\n",
      "| 170442|1541|    77|           1|           1|      11|261612|           1|100.001-110.000|       184|   Rescisão Indireta|\n",
      "|  43816|1585|   208|           3|           1|       4| 85622|           1|  30.001-40.000|      2536|   Rescisão Indireta|\n",
      "|  67132|1561|    77|           1|           1|       4| 15910|           2|  30.001-40.000|      2144|\"Assédio Moral\",\"...|\n",
      "| 157414|1503|    42|           2|           1|       5| 29612|           5|  40.001-50.000|       167|\"Multa do Artigo ...|\n",
      "|  31297|1543|    77|           1|           1|       4| 54604|           4|  30.001-40.000|      2745|\"Adicional de Ris...|\n",
      "|  19995|1544|    77|           1|           1|       4| 48830|          12|  30.001-40.000|      2974|\"Aviso Prévio\",\"D...|\n",
      "+-------+----+------+------------+------------+--------+------+------------+---------------+----------+--------------------+\n",
      "only showing top 20 rows\n",
      "\n"
     ]
    },
    {
     "name": "stderr",
     "output_type": "stream",
     "text": [
      "                                                                                "
     ]
    }
   ],
   "source": [
    "df_clean.show()"
   ]
  },
  {
   "cell_type": "code",
   "execution_count": 40,
   "id": "7ffd300d-5a8b-45e7-851d-af7bd10329b5",
   "metadata": {},
   "outputs": [],
   "source": [
    "# agrupando total de reus por vara\n",
    "df_agrupado_vara = df_clean.groupBy('VARA').agg(sum('QTD_RDA_PROC').alias('TOTAL_REUS'), sum('QTD_RTE_PROC').alias('TOTAL_RECLAMANTES')).orderBy(desc('TOTAL_REUS'))"
   ]
  },
  {
   "cell_type": "code",
   "execution_count": 41,
   "id": "4d784032-3aea-4009-829f-b87d05d4c37b",
   "metadata": {},
   "outputs": [
    {
     "name": "stderr",
     "output_type": "stream",
     "text": [
      "[Stage 79:>                                                         (0 + 1) / 1]"
     ]
    },
    {
     "name": "stdout",
     "output_type": "stream",
     "text": [
      "+----+----------+-----------------+\n",
      "|VARA|TOTAL_REUS|TOTAL_RECLAMANTES|\n",
      "+----+----------+-----------------+\n",
      "|1514|      7134|             4578|\n",
      "|1529|      5039|             3091|\n",
      "|1528|      4856|             3015|\n",
      "|1520|      4717|             3308|\n",
      "|1516|      4467|             2785|\n",
      "|1518|      4299|             2808|\n",
      "|1515|      4285|             2372|\n",
      "|1504|      4190|             2405|\n",
      "|1503|      4147|             2350|\n",
      "|1511|      4119|             2346|\n",
      "|1505|      4110|             2309|\n",
      "|1506|      4034|             2817|\n",
      "|1477|      3957|             2192|\n",
      "|1480|      3943|             2418|\n",
      "|1494|      3925|             2203|\n",
      "|1519|      3881|             2451|\n",
      "|1500|      3872|             2194|\n",
      "|1492|      3849|             2273|\n",
      "|1478|      3823|             2274|\n",
      "|1474|      3758|             2091|\n",
      "+----+----------+-----------------+\n",
      "only showing top 20 rows\n",
      "\n"
     ]
    },
    {
     "name": "stderr",
     "output_type": "stream",
     "text": [
      "                                                                                "
     ]
    }
   ],
   "source": [
    "df_agrupado_vara.show()"
   ]
  },
  {
   "cell_type": "code",
   "execution_count": 43,
   "id": "30b87812-68fc-4742-9448-7b7b4b1be7ab",
   "metadata": {},
   "outputs": [
    {
     "name": "stderr",
     "output_type": "stream",
     "text": [
      "                                                                                "
     ]
    }
   ],
   "source": [
    "# Gravar dados no banco postgresql\n",
    "df_agrupado_vara.write.format(\"jdbc\") \\\n",
    "\t.option(\"url\",\"jdbc:postgresql://10.13.123.0:5432/curso_spark\") \\\n",
    "\t.option(\"dbtable\",\"carlos\") \\\n",
    "\t.option(\"user\",\"postgres\") \\\n",
    "\t.option(\"password\",\"spark\") \\\n",
    "\t.option(\"driver\",\"org.postgresql.Driver\") \\\n",
    "\t.save()"
   ]
  },
  {
   "cell_type": "code",
   "execution_count": 44,
   "id": "8cfae316-cd63-431d-bd47-41b7aa96c051",
   "metadata": {},
   "outputs": [
    {
     "name": "stdout",
     "output_type": "stream",
     "text": [
      "+----+----------+-----------------+\n",
      "|VARA|TOTAL_REUS|TOTAL_RECLAMANTES|\n",
      "+----+----------+-----------------+\n",
      "|1514|      7134|             4578|\n",
      "|1529|      5039|             3091|\n",
      "|1528|      4856|             3015|\n",
      "|1520|      4717|             3308|\n",
      "|1516|      4467|             2785|\n",
      "|1518|      4299|             2808|\n",
      "|1515|      4285|             2372|\n",
      "|1504|      4190|             2405|\n",
      "|1503|      4147|             2350|\n",
      "|1511|      4119|             2346|\n",
      "|1505|      4110|             2309|\n",
      "|1506|      4034|             2817|\n",
      "|1477|      3957|             2192|\n",
      "|1480|      3943|             2418|\n",
      "|1494|      3925|             2203|\n",
      "|1519|      3881|             2451|\n",
      "|1500|      3872|             2194|\n",
      "|1492|      3849|             2273|\n",
      "|1478|      3823|             2274|\n",
      "|1474|      3758|             2091|\n",
      "+----+----------+-----------------+\n",
      "only showing top 20 rows\n",
      "\n"
     ]
    }
   ],
   "source": [
    "# Importar tabela a partir de um banco postgresql\n",
    "df = spark.read.format(\"jdbc\") \\\n",
    "\t.option(\"url\",\"jdbc:postgresql://10.13.123.0:5432/curso_spark\") \\\n",
    "\t.option(\"dbtable\",\"carlos\") \\\n",
    "\t.option(\"user\",\"postgres\") \\\n",
    "\t.option(\"password\",\"spark\") \\\n",
    "\t.option(\"driver\",\"org.postgresql.Driver\") \\\n",
    "\t.load()\n",
    "\n",
    "df.show()"
   ]
  },
  {
   "cell_type": "code",
   "execution_count": null,
   "id": "aedfeb79-7a11-45ee-8546-052ee00d9fe6",
   "metadata": {},
   "outputs": [],
   "source": []
  }
 ],
 "metadata": {
  "kernelspec": {
   "display_name": "Python 3 (ipykernel)",
   "language": "python",
   "name": "python3"
  },
  "language_info": {
   "codemirror_mode": {
    "name": "ipython",
    "version": 3
   },
   "file_extension": ".py",
   "mimetype": "text/x-python",
   "name": "python",
   "nbconvert_exporter": "python",
   "pygments_lexer": "ipython3",
   "version": "3.12.3"
  }
 },
 "nbformat": 4,
 "nbformat_minor": 5
}
