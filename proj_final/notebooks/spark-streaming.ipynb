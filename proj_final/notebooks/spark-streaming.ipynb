{
 "cells": [
  {
   "cell_type": "code",
   "execution_count": 22,
   "id": "6206d1d3-6835-4648-b820-b15d04f3af39",
   "metadata": {},
   "outputs": [],
   "source": [
    "# Importar as bibliotecas\n",
    "from pyspark.sql.functions import *\n",
    "from pyspark.sql.types import *\n",
    "from pyspark.sql import SparkSession"
   ]
  },
  {
   "cell_type": "code",
   "execution_count": 23,
   "id": "4f3612b6-f69e-44be-a1ab-27f0c512db51",
   "metadata": {},
   "outputs": [],
   "source": [
    "spark = SparkSession.builder \\\n",
    "    .appName(\"spark-streaming\") \\\n",
    "    .config(\"spark.jars.packages\",\n",
    "            \"org.apache.spark:spark-sql-kafka-0-10_2.12:3.4.1,\"\n",
    "            \"org.mongodb.spark:mongo-spark-connector_2.12:10.2.0\") \\\n",
    "    .getOrCreate()\n"
   ]
  },
  {
   "cell_type": "code",
   "execution_count": 28,
   "id": "6afd68be-77dc-4782-8b9e-b533b474ce6f",
   "metadata": {},
   "outputs": [],
   "source": [
    "# Criar o dataframe do tipo stream, apontando para o servidor kafka e o tópico a ser consumido.\n",
    "df = (spark.readStream\n",
    "        .format(\"kafka\")\n",
    "        .option(\"kafka.bootstrap.servers\", \"spark-master:9092\")\n",
    "        .option(\"subscribe\", \"topico-mongo.spark-streaming.dados\")\n",
    "        .option(\"startingOffsets\", \"earliest\") \n",
    "        .load()\n",
    ")"
   ]
  },
  {
   "cell_type": "code",
   "execution_count": 33,
   "id": "46a9dcf2-1a4e-480f-b051-af7d1d8cdbbc",
   "metadata": {},
   "outputs": [],
   "source": [
    "from pyspark.sql.functions import from_json, col\n",
    "from pyspark.sql.types import StructType, StructField, StringType, IntegerType\n",
    "\n",
    "# Schema externo do JSON recebido via Kafka\n",
    "schema = StructType([\n",
    "    StructField(\"payload\", StructType([\n",
    "        StructField(\"after\", StringType(), True)  # <<< importante: after é uma string!\n",
    "    ]))\n",
    "])\n",
    "\n",
    "# Schema interno que está codificado dentro da string JSON do campo \"after\"\n",
    "after_schema = StructType([\n",
    "    StructField(\"_id\", StructType([\n",
    "        StructField(\"$oid\", StringType(), True)\n",
    "    ])),\n",
    "    StructField(\"id_projeto\", IntegerType(), True),\n",
    "    StructField(\"tempo\", IntegerType(), True)\n",
    "])\n",
    "\n",
    "# 1. Primeiro: desserializa o valor inteiro do Kafka (JSON principal)\n",
    "df1 = df.select(from_json(col(\"value\").cast(\"string\"), schema).alias(\"data\"))\n",
    "\n",
    "# 2. Segundo: desserializa o campo 'after' (string JSON) com o schema interno\n",
    "df2 = df1.select(from_json(col(\"data.payload.after\"), after_schema).alias(\"after\"))\n",
    "\n",
    "# 3. Seleciona os campos finais\n",
    "dx = df2.select(\"after.id_projeto\", \"after.tempo\")"
   ]
  },
  {
   "cell_type": "code",
   "execution_count": 34,
   "id": "69ea44d6-4004-430a-a230-1f8842b14863",
   "metadata": {},
   "outputs": [
    {
     "name": "stderr",
     "output_type": "stream",
     "text": [
      "25/07/12 02:21:03 WARN ResolveWriteToStream: Temporary checkpoint location created which is deleted normally when the query didn't fail: /tmp/temporary-332d904a-cad9-4c01-aa68-097bc7515d66. If it's required to delete it under any circumstances, please set spark.sql.streaming.forceDeleteTempCheckpointLocation to true. Important to know deleting temp checkpoint folder is best effort.\n",
      "25/07/12 02:21:03 WARN ResolveWriteToStream: spark.sql.adaptive.enabled is not supported in streaming DataFrames/Datasets and will be disabled.\n",
      "                                                                                r, value.deserializer, enable.auto.commit, max.poll.records, auto.1) / 1]r, value.deserializer, enable.auto.commit, max.poll.records, auto.offset.reset]' were supplied but are not used yet.\n",
      "[Stage 25:>                                                         (0 + 0) / 1]r, value.deserializer, enable.auto.commit, max.poll.records, auto.offset.reset]' were supplied but are not used yet.\n",
      "1) / 1]r, value.deserializer, enable.auto.commit, max.poll.records, auto.offset.reset]' were supplied but are not used yet.\n",
      "[Stage 25:>                                                         (0 + 0) / 1]r, value.deserializer, enable.auto.commit, max.poll.records, auto.offset.reset]' were supplied but are not used yet.\n"
     ]
    },
    {
     "name": "stdout",
     "output_type": "stream",
     "text": [
      "-------------------------------------------\n",
      "Batch: 0\n",
      "-------------------------------------------\n",
      "+----------+-----+\n",
      "|id_projeto|tempo|\n",
      "+----------+-----+\n",
      "|32        |25   |\n",
      "|78        |80   |\n",
      "|56        |43   |\n",
      "|56        |43   |\n",
      "|78        |80   |\n",
      "|78        |80   |\n",
      "|78        |80   |\n",
      "|78        |80   |\n",
      "|78        |80   |\n",
      "|NULL      |NULL |\n",
      "|78        |80   |\n",
      "|23        |43   |\n",
      "|23        |43   |\n",
      "|23        |43   |\n",
      "|23        |43   |\n",
      "|67        |21   |\n",
      "+----------+-----+\n",
      "\n"
     ]
    },
    {
     "name": "stderr",
     "output_type": "stream",
     "text": [
      "                                                                                "
     ]
    },
    {
     "name": "stdout",
     "output_type": "stream",
     "text": [
      "-------------------------------------------\n",
      "Batch: 1\n",
      "-------------------------------------------\n",
      "-------------------------------------------\n",
      "Batch: 3\n",
      "-------------------------------------------\n",
      "+----------+-----+\n",
      "|id_projeto|tempo|\n",
      "+----------+-----+\n",
      "|67        |21   |\n",
      "+----------+-----+\n",
      "\n",
      "+----------+-----+\n",
      "|id_projeto|tempo|\n",
      "+----------+-----+\n",
      "|67        |21   |\n",
      "+----------+-----+\n",
      "\n"
     ]
    },
    {
     "name": "stderr",
     "output_type": "stream",
     "text": [
      "                                                                                "
     ]
    },
    {
     "name": "stdout",
     "output_type": "stream",
     "text": [
      "-------------------------------------------\n",
      "Batch: 6\n",
      "-------------------------------------------\n",
      "-------------------------------------------\n",
      "Batch: 6\n",
      "-------------------------------------------\n",
      "+----------+-----+\n",
      "|id_projeto|tempo|\n",
      "+----------+-----+\n",
      "|NULL      |NULL |\n",
      "+----------+-----+\n",
      "\n",
      "+----------+-----+\n",
      "|id_projeto|tempo|\n",
      "+----------+-----+\n",
      "|NULL      |NULL |\n",
      "+----------+-----+\n",
      "\n",
      "-------------------------------------------\n",
      "Batch: 6\n",
      "-------------------------------------------\n",
      "-------------------------------------------\n",
      "Batch: 4\n",
      "-------------------------------------------\n",
      "+----------+-----+\n",
      "|id_projeto|tempo|\n",
      "+----------+-----+\n",
      "|NULL      |NULL |\n",
      "+----------+-----+\n",
      "\n",
      "+----------+-----+\n",
      "|id_projeto|tempo|\n",
      "+----------+-----+\n",
      "|67        |21   |\n",
      "+----------+-----+\n",
      "\n"
     ]
    }
   ],
   "source": [
    "ds = (dx.writeStream \n",
    "    .outputMode(\"append\") \n",
    "    .format(\"console\")\n",
    "    .option(\"truncate\", False)\n",
    "    .start()\n",
    ")"
   ]
  },
  {
   "cell_type": "code",
   "execution_count": null,
   "id": "d7e798b3-e23a-4bea-acb4-8f9dfa0dd339",
   "metadata": {},
   "outputs": [],
   "source": []
  }
 ],
 "metadata": {
  "kernelspec": {
   "display_name": "Python 3 (ipykernel)",
   "language": "python",
   "name": "python3"
  },
  "language_info": {
   "codemirror_mode": {
    "name": "ipython",
    "version": 3
   },
   "file_extension": ".py",
   "mimetype": "text/x-python",
   "name": "python",
   "nbconvert_exporter": "python",
   "pygments_lexer": "ipython3",
   "version": "3.12.3"
  }
 },
 "nbformat": 4,
 "nbformat_minor": 5
}
