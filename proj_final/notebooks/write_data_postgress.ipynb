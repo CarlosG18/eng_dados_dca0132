{
 "cells": [
  {
   "cell_type": "code",
   "execution_count": 1,
   "id": "723e4509-b0d8-4625-a437-1952d28a2a1c",
   "metadata": {},
   "outputs": [
    {
     "name": "stderr",
     "output_type": "stream",
     "text": [
      "Setting default log level to \"WARN\".\n",
      "To adjust logging level use sc.setLogLevel(newLevel). For SparkR, use setLogLevel(newLevel).\n"
     ]
    }
   ],
   "source": [
    "from pyspark.sql import SparkSession\n",
    "\n",
    "# realizando configurações da seção no PySpark\n",
    "spark = (\n",
    "    SparkSession.builder\n",
    "        .master(\"yarn\")\n",
    "        .appName(\"Write data in Postgress\")\n",
    "        .getOrCreate()\n",
    ")"
   ]
  },
  {
   "cell_type": "code",
   "execution_count": 3,
   "id": "9e5022a0-eb3d-424b-942e-7aca082a82e9",
   "metadata": {},
   "outputs": [
    {
     "name": "stderr",
     "output_type": "stream",
     "text": [
      "                                                                                "
     ]
    },
    {
     "name": "stdout",
     "output_type": "stream",
     "text": [
      "+--------------------+-------------------+----------+---------+--------------------+--------------------+--------------------+------------+----------+-------+-------+\n",
      "|   spotify_track_uri|                 ts|  platform|ms_played|          track_name|         artist_name|          album_name|reason_start|reason_end|shuffle|skipped|\n",
      "+--------------------+-------------------+----------+---------+--------------------+--------------------+--------------------+------------+----------+-------+-------+\n",
      "|2J3n32GeLmMjwuAzy...|2013-07-08 02:44:34|web player|     3185| Say It, Just Say It|        The Mowgli's|Waiting For The Dawn|    autoplay|  clickrow|  FALSE|  FALSE|\n",
      "|1oHxIPqJyvAYHy0PV...|2013-07-08 02:45:37|web player|    61865|Drinking from the...|       Calvin Harris|           18 Months|    clickrow|  clickrow|  FALSE|  FALSE|\n",
      "|487OPlneJNni3NWC8...|2013-07-08 02:50:24|web player|   285386|         Born To Die|        Lana Del Rey|Born To Die - The...|    clickrow|   unknown|  FALSE|  FALSE|\n",
      "|5IyblF777jLZj1vGH...|2013-07-08 02:52:40|web player|   134022|    Off To The Races|        Lana Del Rey|Born To Die - The...|   trackdone|  clickrow|  FALSE|  FALSE|\n",
      "|0GgAAB0ZMllFhbNc3...|2013-07-08 03:17:52|web player|        0|           Half Mast|   Empire Of The Sun|  Walking On A Dream|    clickrow|   nextbtn|  FALSE|  FALSE|\n",
      "|50VNvhzyaSplJCKWc...|2013-07-08 03:17:52|web player|    63485|          Impossible|        James Arthur|          Impossible|    clickrow|  clickrow|  FALSE|  FALSE|\n",
      "|1I4EczxGBcPR3J3Ke...|2013-07-08 03:17:56|web player|        0|      We Own The Sky|                 M83|   Saturdays = Youth|     nextbtn|   nextbtn|  FALSE|  FALSE|\n",
      "|5arVt2Wg0zbiWwAOZ...|2013-07-08 03:17:56|web player|     1268|Higher Ground - R...|Red Hot Chili Pep...|       Mother's Milk|     nextbtn|   nextbtn|  FALSE|  FALSE|\n",
      "|1ixtaZc0Adil3yD1I...|2013-07-08 03:17:58|web player|        0|       Happy Up Here|            Röyksopp|       Happy Up Here|     nextbtn|   nextbtn|  FALSE|  FALSE|\n",
      "|2v5mpowLQNFN7NC46...|2013-07-08 03:19:11|web player|        0|             Phantom|             Justice|             Phantom|     nextbtn|  clickrow|  FALSE|  FALSE|\n",
      "|07hII2Rc29q4F2nTE...|2013-07-08 03:20:20|web player|    67587|Sun - Gildas Kits...|Two Door Cinema Club|The Kitsuné Speci...|    clickrow|  clickrow|  FALSE|  FALSE|\n",
      "|4kO7mrAPfqIrsKwUO...|2013-07-08 03:20:36|web player|    12846|       Midnight City|                 M83|Hurry Up, We're D...|    clickrow|  clickrow|  FALSE|  FALSE|\n",
      "|4oTIuUmpE2xdXrpon...|2013-07-08 03:21:13|web player|    36132|              Heaven|         Emeli Sandé|Our Version Of Ev...|    clickrow|  clickrow|  FALSE|  FALSE|\n",
      "|49h0RYK3yzWkfbVyN...|2013-07-08 03:22:51|web player|    95817|    Do I Wanna Know?|      Arctic Monkeys|    Do I Wanna Know?|    clickrow|  clickrow|  FALSE|  FALSE|\n",
      "|4iG2gAwKXsOcijVaV...|2013-07-08 03:22:54|web player|     1763|     Time to Pretend|                MGMT|Oracular Spectacular|    clickrow|   nextbtn|  FALSE|  FALSE|\n",
      "|19K3lUMJmOdeuOBTr...|2013-07-08 03:33:38|web player|    45712|        Weekend Wars|                MGMT|Oracular Spectacular|     nextbtn|   nextbtn|  FALSE|  FALSE|\n",
      "|5nv854ey1k43KaZ0k...|2013-07-08 03:37:30|web player|   228021|           The Youth|                MGMT|Oracular Spectacular|     nextbtn|   unknown|  FALSE|  FALSE|\n",
      "|3FtYbEfBqAlGO46NU...|2013-07-08 03:41:21|web player|   229589|       Electric Feel|                MGMT|Oracular Spectacular|   trackdone| trackdone|  FALSE|  FALSE|\n",
      "|1jJci4qxiYcOHhQR2...|2013-07-08 03:41:30|web player|     7332|                Kids|                MGMT|Oracular Spectacular|   trackdone|  clickrow|  FALSE|  FALSE|\n",
      "|4Sfa7hdVkqlM8UW5L...|2013-07-08 03:45:10|web player|   217935|         Take a Walk|         Passion Pit|            Gossamer|    clickrow|  clickrow|  FALSE|  FALSE|\n",
      "+--------------------+-------------------+----------+---------+--------------------+--------------------+--------------------+------------+----------+-------+-------+\n",
      "only showing top 20 rows\n",
      "\n"
     ]
    }
   ],
   "source": [
    "# lendo o arquivo .csv do HDFS\n",
    "\n",
    "caminho_csv = \"hdfs://spark-master:9000/user/myuser/spotify_history.csv\"\n",
    "\n",
    "# Ler o arquivo CSV do HDFS\n",
    "df = spark.read.csv(caminho_csv, header=True, inferSchema=True)\n",
    "\n",
    "df.show()"
   ]
  },
  {
   "cell_type": "code",
   "execution_count": 6,
   "id": "4c6af68e-2c26-45a3-94cd-b6c800d1032b",
   "metadata": {},
   "outputs": [
    {
     "name": "stderr",
     "output_type": "stream",
     "text": [
      "                                                                                ====================>                             (1 + 1) / 2]"
     ]
    }
   ],
   "source": [
    "# Gravar dados no banco postgresql\n",
    "df.write.format(\"jdbc\") \\\n",
    "\t.option(\"url\",\"jdbc:postgresql://spark-postgres:5432/spark-db\") \\\n",
    "\t.option(\"dbtable\",\"music\") \\\n",
    "\t.option(\"user\",\"postgres\") \\\n",
    "\t.option(\"password\",\"postgres123\") \\\n",
    "\t.option(\"driver\",\"org.postgresql.Driver\") \\\n",
    "\t.save()"
   ]
  },
  {
   "cell_type": "code",
   "execution_count": null,
   "id": "dcd32bcf-f159-4b63-b0af-cf03e9be699f",
   "metadata": {},
   "outputs": [],
   "source": []
  }
 ],
 "metadata": {
  "kernelspec": {
   "display_name": "Python 3 (ipykernel)",
   "language": "python",
   "name": "python3"
  },
  "language_info": {
   "codemirror_mode": {
    "name": "ipython",
    "version": 3
   },
   "file_extension": ".py",
   "mimetype": "text/x-python",
   "name": "python",
   "nbconvert_exporter": "python",
   "pygments_lexer": "ipython3",
   "version": "3.12.3"
  }
 },
 "nbformat": 4,
 "nbformat_minor": 5
}
